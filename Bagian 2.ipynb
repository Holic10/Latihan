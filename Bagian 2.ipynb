{
 "cells": [
  {
   "cell_type": "code",
   "execution_count": null,
   "metadata": {},
   "outputs": [],
   "source": []
  },
  {
   "cell_type": "code",
   "execution_count": 6,
   "metadata": {},
   "outputs": [
    {
     "name": "stdout",
     "output_type": "stream",
     "text": [
      "[1.25, 12.0, 2.0, 10.75, 6.0]\n"
     ]
    }
   ],
   "source": [
    "#nama hewan\n",
    "cing = 1.25\n",
    "api = 12.0\n",
    "bau = 2.0\n",
    "yam = 10.75\n",
    "lar = 6.\n",
    "\n",
    "area = [kucing, sapi, kerbau, ayam, ular]\n",
    "print(area)"
   ]
  },
  {
   "cell_type": "code",
   "execution_count": 7,
   "metadata": {},
   "outputs": [
    {
     "name": "stdout",
     "output_type": "stream",
     "text": [
      "['kucing', 1.25, 'sapi', 12.0, 'kerbau', 2.0, 'ayam', 10.75, 'ular', 6.0]\n"
     ]
    }
   ],
   "source": [
    "area_2 = ['kucing', cing, 'sapi', api, 'kerbau', bau, 'ayam', yam, 'ular', lar]\n",
    "print(area_2)"
   ]
  },
  {
   "cell_type": "code",
   "execution_count": 8,
   "metadata": {},
   "outputs": [
    {
     "name": "stdout",
     "output_type": "stream",
     "text": [
      "[['kucing', 1.25], ['sapi', 12.0], ['kerbau', 2.0], ['ayam', 10.75], ['ukar', 6.0]]\n",
      "<class 'list'>\n"
     ]
    }
   ],
   "source": [
    "rumah = [['kucing', cing],\n",
    "         ['sapi',api],\n",
    "         ['kerbau', bau],\n",
    "         ['ayam', yam],\n",
    "         ['ukar', lar]\n",
    "        ]\n",
    "print(rumah)\n",
    "print(type(rumah))\n"
   ]
  },
  {
   "cell_type": "code",
   "execution_count": null,
   "metadata": {},
   "outputs": [],
   "source": []
  }
 ],
 "metadata": {
  "kernelspec": {
   "display_name": "Python 3",
   "language": "python",
   "name": "python3"
  },
  "language_info": {
   "codemirror_mode": {
    "name": "ipython",
    "version": 3
   },
   "file_extension": ".py",
   "mimetype": "text/x-python",
   "name": "python",
   "nbconvert_exporter": "python",
   "pygments_lexer": "ipython3",
   "version": "3.8.5"
  }
 },
 "nbformat": 4,
 "nbformat_minor": 4
}
